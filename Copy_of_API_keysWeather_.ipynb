{
  "nbformat": 4,
  "nbformat_minor": 0,
  "metadata": {
    "colab": {
      "name": "Copy of API_keysWeather_.ipynb",
      "provenance": [],
      "collapsed_sections": [],
      "authorship_tag": "ABX9TyNe1ScY49bcsAAKIttKlwmG",
      "include_colab_link": true
    },
    "kernelspec": {
      "name": "python3",
      "display_name": "Python 3"
    },
    "language_info": {
      "name": "python"
    }
  },
  "cells": [
    {
      "cell_type": "markdown",
      "metadata": {
        "id": "view-in-github",
        "colab_type": "text"
      },
      "source": [
        "<a href=\"https://colab.research.google.com/github/shankarbalaji124/Build_API_weather_condition-/blob/main/Copy_of_API_keysWeather_.ipynb\" target=\"_parent\"><img src=\"https://colab.research.google.com/assets/colab-badge.svg\" alt=\"Open In Colab\"/></a>"
      ]
    },
    {
      "cell_type": "code",
      "metadata": {
        "colab": {
          "base_uri": "https://localhost:8080/"
        },
        "id": "pEPMVqsl4Wqa",
        "outputId": "df070d24-5200-4cd6-a966-fc7666234f12"
      },
      "source": [
        "! pip install pyowm\n",
        "from pyowm import OWM\n",
        "from pyowm.utils import config\n",
        "from pyowm.utils import timestamps"
      ],
      "execution_count": null,
      "outputs": [
        {
          "output_type": "stream",
          "text": [
            "Collecting pyowm\n",
            "\u001b[?25l  Downloading https://files.pythonhosted.org/packages/7b/7d/ed92151b2d1e0f425f18bf4d686bc5530b47e4c853c0a814ff5d8c416259/pyowm-3.2.0-py3-none-any.whl (3.1MB)\n",
            "\u001b[K     |████████████████████████████████| 3.1MB 4.1MB/s \n",
            "\u001b[?25hCollecting geojson<3,>=2.3.0\n",
            "  Downloading https://files.pythonhosted.org/packages/e4/8d/9e28e9af95739e6d2d2f8d4bef0b3432da40b7c3588fbad4298c1be09e48/geojson-2.5.0-py2.py3-none-any.whl\n",
            "Requirement already satisfied: requests[socks] in /usr/local/lib/python3.7/dist-packages (from pyowm) (2.23.0)\n",
            "Requirement already satisfied: PySocks<2,>=1.7.1 in /usr/local/lib/python3.7/dist-packages (from pyowm) (1.7.1)\n",
            "Requirement already satisfied: chardet<4,>=3.0.2 in /usr/local/lib/python3.7/dist-packages (from requests[socks]->pyowm) (3.0.4)\n",
            "Requirement already satisfied: certifi>=2017.4.17 in /usr/local/lib/python3.7/dist-packages (from requests[socks]->pyowm) (2021.5.30)\n",
            "Requirement already satisfied: idna<3,>=2.5 in /usr/local/lib/python3.7/dist-packages (from requests[socks]->pyowm) (2.10)\n",
            "Requirement already satisfied: urllib3!=1.25.0,!=1.25.1,<1.26,>=1.21.1 in /usr/local/lib/python3.7/dist-packages (from requests[socks]->pyowm) (1.24.3)\n",
            "Installing collected packages: geojson, pyowm\n",
            "Successfully installed geojson-2.5.0 pyowm-3.2.0\n"
          ],
          "name": "stdout"
        }
      ]
    },
    {
      "cell_type": "code",
      "metadata": {
        "id": "OLOiLLvw5Iwc"
      },
      "source": [
        "owm = OWM(\"f2a5552fda7064db40ed8e4e183e06c9\")\n",
        "mgr = owm.weather_manager()"
      ],
      "execution_count": null,
      "outputs": []
    },
    {
      "cell_type": "code",
      "metadata": {
        "colab": {
          "base_uri": "https://localhost:8080/"
        },
        "id": "0tUKxzYC6JBx",
        "outputId": "c7cb32aa-28a9-44ef-c4f8-5566c7debd6c"
      },
      "source": [
        "observation = mgr.weather_at_place('London,GB')\n",
        "w = observation.weather\n",
        "w.detailed_status         # 'clouds'\n",
        "w.wind()                  # {'speed': 4.6, 'deg': 330}\n",
        "w.humidity                # 87\n",
        "w.temperature('celsius')  # {'temp_max': 10.5, 'temp': 9.7, 'temp_min': 9.0}\n",
        "w.rain                    # {}\n",
        "w.heat_index              # None\n",
        "w.clouds                  # 75"
      ],
      "execution_count": null,
      "outputs": [
        {
          "output_type": "execute_result",
          "data": {
            "text/plain": [
              "45"
            ]
          },
          "metadata": {
            "tags": []
          },
          "execution_count": 6
        }
      ]
    },
    {
      "cell_type": "code",
      "metadata": {
        "id": "y0AUmHhQ6j8s"
      },
      "source": [
        ""
      ],
      "execution_count": null,
      "outputs": []
    }
  ]
}